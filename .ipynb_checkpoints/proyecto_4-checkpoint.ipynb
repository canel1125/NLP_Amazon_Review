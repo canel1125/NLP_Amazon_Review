{
 "cells": [
  {
   "cell_type": "markdown",
   "metadata": {},
   "source": [
    "# Retomamos el modelo del proyecto anterior."
   ]
  },
  {
   "cell_type": "markdown",
   "metadata": {},
   "source": [
    "## Spacy"
   ]
  },
  {
   "cell_type": "markdown",
   "metadata": {},
   "source": [
    "Utilizamos Spacy y sus funciones para lemmatizar, vectorizar y modelar."
   ]
  },
  {
   "cell_type": "markdown",
   "metadata": {},
   "source": [
    "Importamos de nuevo el dataset para poder trabajar en limpio y ver como se comporta si lo normalizamos y transformamos con Spacy"
   ]
  },
  {
   "cell_type": "code",
   "execution_count": 1,
   "metadata": {},
   "outputs": [],
   "source": [
    "import pandas as pd\n",
    "import numpy as np\n",
    "import matplotlib.pyplot as plt\n",
    "import seaborn as sns\n",
    "\n",
    "import spacy\n",
    "import nltk\n",
    "import itertools\n",
    "\n",
    "from sklearn.model_selection import train_test_split\n",
    "from sklearn.metrics import mean_absolute_error\n",
    "from sklearn.metrics import mean_squared_error\n",
    "\n",
    "from sklearn.neighbors import KNeighborsRegressor\n",
    "from sklearn.metrics import mean_squared_error\n",
    "from sklearn.tree import DecisionTreeRegressor\n",
    "\n",
    "import string"
   ]
  },
  {
   "cell_type": "code",
   "execution_count": 2,
   "metadata": {
    "scrolled": false
   },
   "outputs": [
    {
     "data": {
      "text/html": [
       "<div>\n",
       "<style scoped>\n",
       "    .dataframe tbody tr th:only-of-type {\n",
       "        vertical-align: middle;\n",
       "    }\n",
       "\n",
       "    .dataframe tbody tr th {\n",
       "        vertical-align: top;\n",
       "    }\n",
       "\n",
       "    .dataframe thead th {\n",
       "        text-align: right;\n",
       "    }\n",
       "</style>\n",
       "<table border=\"1\" class=\"dataframe\">\n",
       "  <thead>\n",
       "    <tr style=\"text-align: right;\">\n",
       "      <th></th>\n",
       "      <th>review_id</th>\n",
       "      <th>product_id</th>\n",
       "      <th>reviewer_id</th>\n",
       "      <th>stars</th>\n",
       "      <th>review_body</th>\n",
       "      <th>review_title</th>\n",
       "      <th>language</th>\n",
       "      <th>product_category</th>\n",
       "    </tr>\n",
       "  </thead>\n",
       "  <tbody>\n",
       "    <tr>\n",
       "      <th>0</th>\n",
       "      <td>es_0491108</td>\n",
       "      <td>product_es_0296024</td>\n",
       "      <td>reviewer_es_0999081</td>\n",
       "      <td>1</td>\n",
       "      <td>Nada bueno se me fue ka pantalla en menos de 8...</td>\n",
       "      <td>television Nevir</td>\n",
       "      <td>es</td>\n",
       "      <td>electronics</td>\n",
       "    </tr>\n",
       "    <tr>\n",
       "      <th>1</th>\n",
       "      <td>es_0869872</td>\n",
       "      <td>product_es_0922286</td>\n",
       "      <td>reviewer_es_0216771</td>\n",
       "      <td>1</td>\n",
       "      <td>Horrible, nos tuvimos que comprar otro porque ...</td>\n",
       "      <td>Dinero tirado a la basura con esta compra</td>\n",
       "      <td>es</td>\n",
       "      <td>electronics</td>\n",
       "    </tr>\n",
       "    <tr>\n",
       "      <th>2</th>\n",
       "      <td>es_0811721</td>\n",
       "      <td>product_es_0474543</td>\n",
       "      <td>reviewer_es_0929213</td>\n",
       "      <td>1</td>\n",
       "      <td>Te obligan a comprar dos unidades y te llega s...</td>\n",
       "      <td>solo llega una unidad cuando te obligan a comp...</td>\n",
       "      <td>es</td>\n",
       "      <td>drugstore</td>\n",
       "    </tr>\n",
       "    <tr>\n",
       "      <th>3</th>\n",
       "      <td>es_0359921</td>\n",
       "      <td>product_es_0656090</td>\n",
       "      <td>reviewer_es_0224702</td>\n",
       "      <td>1</td>\n",
       "      <td>No entro en descalificar al vendedor, solo pue...</td>\n",
       "      <td>PRODUCTO NO RECIBIDO.</td>\n",
       "      <td>es</td>\n",
       "      <td>wireless</td>\n",
       "    </tr>\n",
       "    <tr>\n",
       "      <th>4</th>\n",
       "      <td>es_0068940</td>\n",
       "      <td>product_es_0662544</td>\n",
       "      <td>reviewer_es_0224827</td>\n",
       "      <td>1</td>\n",
       "      <td>Llega tarde y co la talla equivocada</td>\n",
       "      <td>Devuelto</td>\n",
       "      <td>es</td>\n",
       "      <td>shoes</td>\n",
       "    </tr>\n",
       "    <tr>\n",
       "      <th>...</th>\n",
       "      <td>...</td>\n",
       "      <td>...</td>\n",
       "      <td>...</td>\n",
       "      <td>...</td>\n",
       "      <td>...</td>\n",
       "      <td>...</td>\n",
       "      <td>...</td>\n",
       "      <td>...</td>\n",
       "    </tr>\n",
       "    <tr>\n",
       "      <th>199995</th>\n",
       "      <td>es_0715276</td>\n",
       "      <td>product_es_0317036</td>\n",
       "      <td>reviewer_es_0643604</td>\n",
       "      <td>5</td>\n",
       "      <td>Mando funciona perfectamente y cumple con toda...</td>\n",
       "      <td>Tal y como se describe</td>\n",
       "      <td>es</td>\n",
       "      <td>electronics</td>\n",
       "    </tr>\n",
       "    <tr>\n",
       "      <th>199996</th>\n",
       "      <td>es_0085190</td>\n",
       "      <td>product_es_0622919</td>\n",
       "      <td>reviewer_es_0466173</td>\n",
       "      <td>5</td>\n",
       "      <td>Compré la batería con cierta reticencia, pero ...</td>\n",
       "      <td>Funciona perfectamente</td>\n",
       "      <td>es</td>\n",
       "      <td>electronics</td>\n",
       "    </tr>\n",
       "    <tr>\n",
       "      <th>199997</th>\n",
       "      <td>es_0484496</td>\n",
       "      <td>product_es_0358101</td>\n",
       "      <td>reviewer_es_0330744</td>\n",
       "      <td>5</td>\n",
       "      <td>Buena calidad. Satisfecha con la compra.</td>\n",
       "      <td>Buena calidad.</td>\n",
       "      <td>es</td>\n",
       "      <td>apparel</td>\n",
       "    </tr>\n",
       "    <tr>\n",
       "      <th>199998</th>\n",
       "      <td>es_0930141</td>\n",
       "      <td>product_es_0788855</td>\n",
       "      <td>reviewer_es_0694290</td>\n",
       "      <td>5</td>\n",
       "      <td>Perfecto para el cumple de mi hijo</td>\n",
       "      <td>Recomendado</td>\n",
       "      <td>es</td>\n",
       "      <td>toy</td>\n",
       "    </tr>\n",
       "    <tr>\n",
       "      <th>199999</th>\n",
       "      <td>es_0859809</td>\n",
       "      <td>product_es_0378794</td>\n",
       "      <td>reviewer_es_0141717</td>\n",
       "      <td>5</td>\n",
       "      <td>Súper bien! Las brochas son buenas, no sé meno...</td>\n",
       "      <td>Preciosas</td>\n",
       "      <td>es</td>\n",
       "      <td>home</td>\n",
       "    </tr>\n",
       "  </tbody>\n",
       "</table>\n",
       "<p>200000 rows × 8 columns</p>\n",
       "</div>"
      ],
      "text/plain": [
       "         review_id          product_id          reviewer_id  stars  \\\n",
       "0       es_0491108  product_es_0296024  reviewer_es_0999081      1   \n",
       "1       es_0869872  product_es_0922286  reviewer_es_0216771      1   \n",
       "2       es_0811721  product_es_0474543  reviewer_es_0929213      1   \n",
       "3       es_0359921  product_es_0656090  reviewer_es_0224702      1   \n",
       "4       es_0068940  product_es_0662544  reviewer_es_0224827      1   \n",
       "...            ...                 ...                  ...    ...   \n",
       "199995  es_0715276  product_es_0317036  reviewer_es_0643604      5   \n",
       "199996  es_0085190  product_es_0622919  reviewer_es_0466173      5   \n",
       "199997  es_0484496  product_es_0358101  reviewer_es_0330744      5   \n",
       "199998  es_0930141  product_es_0788855  reviewer_es_0694290      5   \n",
       "199999  es_0859809  product_es_0378794  reviewer_es_0141717      5   \n",
       "\n",
       "                                              review_body  \\\n",
       "0       Nada bueno se me fue ka pantalla en menos de 8...   \n",
       "1       Horrible, nos tuvimos que comprar otro porque ...   \n",
       "2       Te obligan a comprar dos unidades y te llega s...   \n",
       "3       No entro en descalificar al vendedor, solo pue...   \n",
       "4                    Llega tarde y co la talla equivocada   \n",
       "...                                                   ...   \n",
       "199995  Mando funciona perfectamente y cumple con toda...   \n",
       "199996  Compré la batería con cierta reticencia, pero ...   \n",
       "199997           Buena calidad. Satisfecha con la compra.   \n",
       "199998                 Perfecto para el cumple de mi hijo   \n",
       "199999  Súper bien! Las brochas son buenas, no sé meno...   \n",
       "\n",
       "                                             review_title language  \\\n",
       "0                                        television Nevir       es   \n",
       "1               Dinero tirado a la basura con esta compra       es   \n",
       "2       solo llega una unidad cuando te obligan a comp...       es   \n",
       "3                                   PRODUCTO NO RECIBIDO.       es   \n",
       "4                                                Devuelto       es   \n",
       "...                                                   ...      ...   \n",
       "199995                             Tal y como se describe       es   \n",
       "199996                             Funciona perfectamente       es   \n",
       "199997                                     Buena calidad.       es   \n",
       "199998                                        Recomendado       es   \n",
       "199999                                          Preciosas       es   \n",
       "\n",
       "       product_category  \n",
       "0           electronics  \n",
       "1           electronics  \n",
       "2             drugstore  \n",
       "3              wireless  \n",
       "4                 shoes  \n",
       "...                 ...  \n",
       "199995      electronics  \n",
       "199996      electronics  \n",
       "199997          apparel  \n",
       "199998              toy  \n",
       "199999             home  \n",
       "\n",
       "[200000 rows x 8 columns]"
      ]
     },
     "execution_count": 2,
     "metadata": {},
     "output_type": "execute_result"
    }
   ],
   "source": [
    "dataset = pd.read_json('dataset_amazon/dataset_es_train.json', lines = True)\n",
    "dataset"
   ]
  },
  {
   "cell_type": "code",
   "execution_count": 3,
   "metadata": {
    "scrolled": false
   },
   "outputs": [
    {
     "data": {
      "text/html": [
       "<div>\n",
       "<style scoped>\n",
       "    .dataframe tbody tr th:only-of-type {\n",
       "        vertical-align: middle;\n",
       "    }\n",
       "\n",
       "    .dataframe tbody tr th {\n",
       "        vertical-align: top;\n",
       "    }\n",
       "\n",
       "    .dataframe thead th {\n",
       "        text-align: right;\n",
       "    }\n",
       "</style>\n",
       "<table border=\"1\" class=\"dataframe\">\n",
       "  <thead>\n",
       "    <tr style=\"text-align: right;\">\n",
       "      <th></th>\n",
       "      <th>stars</th>\n",
       "      <th>review_body</th>\n",
       "      <th>review_title</th>\n",
       "    </tr>\n",
       "  </thead>\n",
       "  <tbody>\n",
       "    <tr>\n",
       "      <th>0</th>\n",
       "      <td>1</td>\n",
       "      <td>Nada bueno se me fue ka pantalla en menos de 8...</td>\n",
       "      <td>television Nevir</td>\n",
       "    </tr>\n",
       "    <tr>\n",
       "      <th>1</th>\n",
       "      <td>1</td>\n",
       "      <td>Horrible, nos tuvimos que comprar otro porque ...</td>\n",
       "      <td>Dinero tirado a la basura con esta compra</td>\n",
       "    </tr>\n",
       "    <tr>\n",
       "      <th>2</th>\n",
       "      <td>1</td>\n",
       "      <td>Te obligan a comprar dos unidades y te llega s...</td>\n",
       "      <td>solo llega una unidad cuando te obligan a comp...</td>\n",
       "    </tr>\n",
       "    <tr>\n",
       "      <th>3</th>\n",
       "      <td>1</td>\n",
       "      <td>No entro en descalificar al vendedor, solo pue...</td>\n",
       "      <td>PRODUCTO NO RECIBIDO.</td>\n",
       "    </tr>\n",
       "    <tr>\n",
       "      <th>4</th>\n",
       "      <td>1</td>\n",
       "      <td>Llega tarde y co la talla equivocada</td>\n",
       "      <td>Devuelto</td>\n",
       "    </tr>\n",
       "    <tr>\n",
       "      <th>...</th>\n",
       "      <td>...</td>\n",
       "      <td>...</td>\n",
       "      <td>...</td>\n",
       "    </tr>\n",
       "    <tr>\n",
       "      <th>199995</th>\n",
       "      <td>5</td>\n",
       "      <td>Mando funciona perfectamente y cumple con toda...</td>\n",
       "      <td>Tal y como se describe</td>\n",
       "    </tr>\n",
       "    <tr>\n",
       "      <th>199996</th>\n",
       "      <td>5</td>\n",
       "      <td>Compré la batería con cierta reticencia, pero ...</td>\n",
       "      <td>Funciona perfectamente</td>\n",
       "    </tr>\n",
       "    <tr>\n",
       "      <th>199997</th>\n",
       "      <td>5</td>\n",
       "      <td>Buena calidad. Satisfecha con la compra.</td>\n",
       "      <td>Buena calidad.</td>\n",
       "    </tr>\n",
       "    <tr>\n",
       "      <th>199998</th>\n",
       "      <td>5</td>\n",
       "      <td>Perfecto para el cumple de mi hijo</td>\n",
       "      <td>Recomendado</td>\n",
       "    </tr>\n",
       "    <tr>\n",
       "      <th>199999</th>\n",
       "      <td>5</td>\n",
       "      <td>Súper bien! Las brochas son buenas, no sé meno...</td>\n",
       "      <td>Preciosas</td>\n",
       "    </tr>\n",
       "  </tbody>\n",
       "</table>\n",
       "<p>200000 rows × 3 columns</p>\n",
       "</div>"
      ],
      "text/plain": [
       "        stars                                        review_body  \\\n",
       "0           1  Nada bueno se me fue ka pantalla en menos de 8...   \n",
       "1           1  Horrible, nos tuvimos que comprar otro porque ...   \n",
       "2           1  Te obligan a comprar dos unidades y te llega s...   \n",
       "3           1  No entro en descalificar al vendedor, solo pue...   \n",
       "4           1               Llega tarde y co la talla equivocada   \n",
       "...       ...                                                ...   \n",
       "199995      5  Mando funciona perfectamente y cumple con toda...   \n",
       "199996      5  Compré la batería con cierta reticencia, pero ...   \n",
       "199997      5           Buena calidad. Satisfecha con la compra.   \n",
       "199998      5                 Perfecto para el cumple de mi hijo   \n",
       "199999      5  Súper bien! Las brochas son buenas, no sé meno...   \n",
       "\n",
       "                                             review_title  \n",
       "0                                        television Nevir  \n",
       "1               Dinero tirado a la basura con esta compra  \n",
       "2       solo llega una unidad cuando te obligan a comp...  \n",
       "3                                   PRODUCTO NO RECIBIDO.  \n",
       "4                                                Devuelto  \n",
       "...                                                   ...  \n",
       "199995                             Tal y como se describe  \n",
       "199996                             Funciona perfectamente  \n",
       "199997                                     Buena calidad.  \n",
       "199998                                        Recomendado  \n",
       "199999                                          Preciosas  \n",
       "\n",
       "[200000 rows x 3 columns]"
      ]
     },
     "execution_count": 3,
     "metadata": {},
     "output_type": "execute_result"
    }
   ],
   "source": [
    "dataset.drop(['language','reviewer_id','product_id','review_id','product_category'],axis = 1,inplace=True)\n",
    "dataset"
   ]
  },
  {
   "cell_type": "code",
   "execution_count": 4,
   "metadata": {},
   "outputs": [],
   "source": [
    "from spacy import displacy\n",
    "nlp = spacy.load(\"es_core_news_sm\") # Cargamos la versión en español"
   ]
  },
  {
   "cell_type": "code",
   "execution_count": 5,
   "metadata": {},
   "outputs": [],
   "source": [
    "from sklearn.feature_extraction.text import TfidfVectorizer\n",
    "from sklearn.pipeline import Pipeline\n",
    "from sklearn.metrics import accuracy_score, classification_report, confusion_matrix"
   ]
  },
  {
   "cell_type": "markdown",
   "metadata": {},
   "source": [
    "#### Armamos la funciones para limpiar y procesar las oraciones"
   ]
  },
  {
   "cell_type": "code",
   "execution_count": 6,
   "metadata": {},
   "outputs": [],
   "source": [
    "# Libreria para reemplzar caracteres\n",
    "import re\n",
    "from nltk import SnowballStemmer\n",
    "\n",
    "# Importamos la función que nos permite Stemmizar de nltk y definimos el stemmer\n",
    "from nltk.stem import PorterStemmer\n",
    "from nltk.stem import WordNetLemmatizer\n",
    "wordnet_lemmatizer = WordNetLemmatizer()\n",
    "porter_stemmer = PorterStemmer()\n",
    "snowball_stemmer = SnowballStemmer('spanish')\n",
    "\n",
    "\n",
    "# Traemos nuevamente las stopwords\n",
    "stopwords = nltk.corpus.stopwords.words('spanish')\n",
    "stopwords.remove('muy')\n",
    "stopwords.remove('nada')\n",
    "stopwords.remove('poco')\n",
    "stopwords.remove('no')"
   ]
  },
  {
   "cell_type": "code",
   "execution_count": 7,
   "metadata": {},
   "outputs": [],
   "source": [
    "#Funcion que remueve acentos de palabras\n",
    "def remover_acentos(palabra):\n",
    "    #Reglas o letras a cambiar\n",
    "    reglas = (\n",
    "        (\"á\", \"a\"),\n",
    "        (\"é\", \"e\"),\n",
    "        (\"í\", \"i\"),\n",
    "        (\"ó\", \"o\"),\n",
    "        (\"ú\", \"u\"),\n",
    "        (\"ñ\", \"n\"),\n",
    "    )\n",
    "    for a, b in reglas:\n",
    "        palabra = palabra.replace(a, b).replace(a.upper(), b.upper())\n",
    "    return palabra"
   ]
  },
  {
   "cell_type": "code",
   "execution_count": 8,
   "metadata": {},
   "outputs": [],
   "source": [
    "#Funcion que tokeniza y normaliza las oraciones\n",
    "\n",
    "def token_cleaner(oracion):\n",
    "    doc = nlp(oracion)\n",
    "    temp=[]\n",
    "    for token in doc:\n",
    "        # Vamos a reemplzar los caracteres que no sean letras por espacios\n",
    "        token=remover_acentos(token.lemma_)\n",
    "        token=re.sub(\"[^a-zA-Z]\",\" \",str(token))\n",
    "        # Pasamos todo a minúsculas\n",
    "        token=token.lower()\n",
    "        # Tokenizamos para separar las palabras del titular\n",
    "        token=nltk.word_tokenize(token)\n",
    "        # Eliminamos las palabras de menos de 3 letras\n",
    "        token = [palabra for palabra in token if len(palabra)>=2]\n",
    "        # Sacamos las Stopwords\n",
    "        token = [palabra for palabra in token if not palabra in stopwords ]\n",
    "\n",
    "        ## Hasta acá Normalizamos, ahora a stemmizar\n",
    "        \n",
    "        # Por ultimo volvemos a unir el titular\n",
    "        token=\"\".join(token)\n",
    "\n",
    "        # Agregamos a la lista la review\n",
    "        temp.append(token)\n",
    "        \n",
    "    temp = list(filter(None, temp))\n",
    "    \n",
    "    return(temp)\n"
   ]
  },
  {
   "cell_type": "code",
   "execution_count": 9,
   "metadata": {},
   "outputs": [],
   "source": [
    "punct = string.punctuation\n",
    "\n",
    "def text_data_cleaning(sentence):\n",
    "    doc = nlp(sentence)\n",
    "    \n",
    "    tokens = []\n",
    "    for token in doc:\n",
    "        temp = token.lower_\n",
    "        tokens.append(temp)\n",
    "    \n",
    "    cleaned_tokens = []\n",
    "    for token in tokens:\n",
    "        if token not in stopwords and token not in punct:\n",
    "            cleaned_tokens.append(token)\n",
    "    return cleaned_tokens"
   ]
  },
  {
   "cell_type": "code",
   "execution_count": 10,
   "metadata": {},
   "outputs": [],
   "source": [
    "#Funcion para poder graficar la matriz de confusión\n",
    "from sklearn.metrics import confusion_matrix\n",
    "import seaborn as sns\n",
    "\n",
    "def confusion(ytest,y_pred):\n",
    "    stars=[\"1\",\"2\"]\n",
    "    cm=confusion_matrix(ytest,y_pred)\n",
    "    f,ax=plt.subplots(figsize=(5,5))\n",
    "    sns.heatmap(cm,annot=True,linewidth=.5,linecolor=\"r\",fmt=\".0f\",ax=ax)\n",
    "    plt.xlabel(\"y_pred\")\n",
    "    plt.ylabel(\"y_true\")\n",
    "    plt.show()\n",
    "\n",
    "    return"
   ]
  },
  {
   "cell_type": "markdown",
   "metadata": {},
   "source": [
    "#### Empezamos a definir el modelo"
   ]
  },
  {
   "cell_type": "code",
   "execution_count": 11,
   "metadata": {},
   "outputs": [],
   "source": [
    "#Como calsificador vamos usar un SVC y para tokenizar TFIDF, que debería tener un mejor desempeño\n",
    "from sklearn.svm import LinearSVC\n",
    "tfidf = TfidfVectorizer(tokenizer = token_cleaner)\n",
    "classifier = LinearSVC()"
   ]
  },
  {
   "cell_type": "markdown",
   "metadata": {},
   "source": [
    "Dividimos, entrenamos y predecimos como siempre"
   ]
  },
  {
   "cell_type": "code",
   "execution_count": 12,
   "metadata": {},
   "outputs": [],
   "source": [
    "X = dataset['review_title']\n",
    "y = dataset['stars']"
   ]
  },
  {
   "cell_type": "code",
   "execution_count": 13,
   "metadata": {},
   "outputs": [],
   "source": [
    "X_train, X_test, y_train, y_test = train_test_split(X, y, test_size = 0.2, random_state = 42)"
   ]
  },
  {
   "cell_type": "code",
   "execution_count": 14,
   "metadata": {},
   "outputs": [],
   "source": [
    "clf = Pipeline([('tfidf', tfidf), ('clf', classifier)])"
   ]
  },
  {
   "cell_type": "code",
   "execution_count": 15,
   "metadata": {},
   "outputs": [
    {
     "data": {
      "text/plain": [
       "Pipeline(steps=[('tfidf',\n",
       "                 TfidfVectorizer(tokenizer=<function token_cleaner at 0x0000023EF8497B80>)),\n",
       "                ('clf', LinearSVC())])"
      ]
     },
     "execution_count": 15,
     "metadata": {},
     "output_type": "execute_result"
    }
   ],
   "source": [
    "clf.fit(X_train, y_train)"
   ]
  },
  {
   "cell_type": "code",
   "execution_count": 16,
   "metadata": {},
   "outputs": [],
   "source": [
    "y_pred = clf.predict(X_test)"
   ]
  },
  {
   "cell_type": "markdown",
   "metadata": {},
   "source": [
    "Armamos una matriz de confusión para ver como se desempeña"
   ]
  },
  {
   "cell_type": "code",
   "execution_count": 17,
   "metadata": {},
   "outputs": [
    {
     "data": {
      "image/png": "[encoded data removed]",
      "text/plain": [
       "<Figure size 360x360 with 2 Axes>"
      ]
     },
     "metadata": {
      "needs_background": "light"
     },
     "output_type": "display_data"
    }
   ],
   "source": [
    "confusion(y_test,y_pred)"
   ]
  },
  {
   "cell_type": "markdown",
   "metadata": {},
   "source": [
    "Imprimimos el valor para poder comparar con los siguientes modelos que vamos a entrenar cuando reduscamos la cantidad de variables a predecir"
   ]
  },
  {
   "cell_type": "code",
   "execution_count": 18,
   "metadata": {},
   "outputs": [
    {
     "data": {
      "text/plain": [
       "0.457275"
      ]
     },
     "execution_count": 18,
     "metadata": {},
     "output_type": "execute_result"
    }
   ],
   "source": [
    "clf.score(X_test,y_test)"
   ]
  },
  {
   "cell_type": "markdown",
   "metadata": {},
   "source": [
    "Probamos con unos titulos basicos a ver como clasifica a mano"
   ]
  },
  {
   "cell_type": "code",
   "execution_count": 19,
   "metadata": {},
   "outputs": [],
   "source": [
    "titulosdeprueba = [[\"muy malo\",0],[\"malo\",0],[\"bueno\",0], [\"medio malo\",0],[\"excelente\",0], [\"si me sirvio para lo que es\",0], [\"Buen precio calidad\",0]]\n",
    "\n",
    "for titulo in titulosdeprueba:\n",
    "    titulo[1]=clf.predict([titulo[0]])[0]"
   ]
  },
  {
   "cell_type": "code",
   "execution_count": 20,
   "metadata": {},
   "outputs": [
    {
     "data": {
      "text/html": [
       "<div>\n",
       "<style scoped>\n",
       "    .dataframe tbody tr th:only-of-type {\n",
       "        vertical-align: middle;\n",
       "    }\n",
       "\n",
       "    .dataframe tbody tr th {\n",
       "        vertical-align: top;\n",
       "    }\n",
       "\n",
       "    .dataframe thead th {\n",
       "        text-align: right;\n",
       "    }\n",
       "</style>\n",
       "<table border=\"1\" class=\"dataframe\">\n",
       "  <thead>\n",
       "    <tr style=\"text-align: right;\">\n",
       "      <th></th>\n",
       "      <th>Review</th>\n",
       "      <th>Puntaje predicho</th>\n",
       "    </tr>\n",
       "  </thead>\n",
       "  <tbody>\n",
       "    <tr>\n",
       "      <th>0</th>\n",
       "      <td>muy malo</td>\n",
       "      <td>1</td>\n",
       "    </tr>\n",
       "    <tr>\n",
       "      <th>1</th>\n",
       "      <td>malo</td>\n",
       "      <td>1</td>\n",
       "    </tr>\n",
       "    <tr>\n",
       "      <th>2</th>\n",
       "      <td>bueno</td>\n",
       "      <td>4</td>\n",
       "    </tr>\n",
       "    <tr>\n",
       "      <th>3</th>\n",
       "      <td>medio malo</td>\n",
       "      <td>2</td>\n",
       "    </tr>\n",
       "    <tr>\n",
       "      <th>4</th>\n",
       "      <td>excelente</td>\n",
       "      <td>5</td>\n",
       "    </tr>\n",
       "    <tr>\n",
       "      <th>5</th>\n",
       "      <td>si me sirvio para lo que es</td>\n",
       "      <td>2</td>\n",
       "    </tr>\n",
       "    <tr>\n",
       "      <th>6</th>\n",
       "      <td>Buen precio calidad</td>\n",
       "      <td>4</td>\n",
       "    </tr>\n",
       "  </tbody>\n",
       "</table>\n",
       "</div>"
      ],
      "text/plain": [
       "                        Review  Puntaje predicho\n",
       "0                     muy malo                 1\n",
       "1                         malo                 1\n",
       "2                        bueno                 4\n",
       "3                   medio malo                 2\n",
       "4                    excelente                 5\n",
       "5  si me sirvio para lo que es                 2\n",
       "6          Buen precio calidad                 4"
      ]
     },
     "execution_count": 20,
     "metadata": {},
     "output_type": "execute_result"
    }
   ],
   "source": [
    "tabla_titulosdeprueba = pd.DataFrame(titulosdeprueba, columns = [\"Review\",\"Puntaje predicho\"])\n",
    "\n",
    "tabla_titulosdeprueba"
   ]
  },
  {
   "cell_type": "markdown",
   "metadata": {},
   "source": [
    "# Binarizacion del problema y reducción de error"
   ]
  },
  {
   "cell_type": "markdown",
   "metadata": {},
   "source": [
    "En esta etapa buscaremos reducir el error y mejorar el score del modelo del anterior proyecto binarizando el problema. Para esto, en lugar de predecir un puntaje, predecirá si la review recomienda el producto o no."
   ]
  },
  {
   "cell_type": "code",
   "execution_count": 21,
   "metadata": {},
   "outputs": [],
   "source": [
    "#Separamos el dataset en 2\n",
    "dataset.loc[dataset[dataset['stars']< 3].index,'recomendable']=0\n",
    "dataset.loc[dataset[dataset['stars']>= 3].index,'recomendable']=1"
   ]
  },
  {
   "cell_type": "markdown",
   "metadata": {},
   "source": [
    "Tomaremos que una review recomienda un producto cuando supuntaje sea mayor o igual a 3 estrellas"
   ]
  },
  {
   "cell_type": "code",
   "execution_count": 22,
   "metadata": {},
   "outputs": [],
   "source": [
    "#paso valores a bool\n",
    "dataset = dataset.astype({\"recomendable\": bool})"
   ]
  },
  {
   "cell_type": "code",
   "execution_count": 23,
   "metadata": {},
   "outputs": [
    {
     "data": {
      "text/html": [
       "<div>\n",
       "<style scoped>\n",
       "    .dataframe tbody tr th:only-of-type {\n",
       "        vertical-align: middle;\n",
       "    }\n",
       "\n",
       "    .dataframe tbody tr th {\n",
       "        vertical-align: top;\n",
       "    }\n",
       "\n",
       "    .dataframe thead th {\n",
       "        text-align: right;\n",
       "    }\n",
       "</style>\n",
       "<table border=\"1\" class=\"dataframe\">\n",
       "  <thead>\n",
       "    <tr style=\"text-align: right;\">\n",
       "      <th></th>\n",
       "      <th>stars</th>\n",
       "      <th>review_body</th>\n",
       "      <th>review_title</th>\n",
       "      <th>recomendable</th>\n",
       "    </tr>\n",
       "  </thead>\n",
       "  <tbody>\n",
       "    <tr>\n",
       "      <th>0</th>\n",
       "      <td>1</td>\n",
       "      <td>Nada bueno se me fue ka pantalla en menos de 8...</td>\n",
       "      <td>television Nevir</td>\n",
       "      <td>False</td>\n",
       "    </tr>\n",
       "    <tr>\n",
       "      <th>1</th>\n",
       "      <td>1</td>\n",
       "      <td>Horrible, nos tuvimos que comprar otro porque ...</td>\n",
       "      <td>Dinero tirado a la basura con esta compra</td>\n",
       "      <td>False</td>\n",
       "    </tr>\n",
       "    <tr>\n",
       "      <th>2</th>\n",
       "      <td>1</td>\n",
       "      <td>Te obligan a comprar dos unidades y te llega s...</td>\n",
       "      <td>solo llega una unidad cuando te obligan a comp...</td>\n",
       "      <td>False</td>\n",
       "    </tr>\n",
       "    <tr>\n",
       "      <th>3</th>\n",
       "      <td>1</td>\n",
       "      <td>No entro en descalificar al vendedor, solo pue...</td>\n",
       "      <td>PRODUCTO NO RECIBIDO.</td>\n",
       "      <td>False</td>\n",
       "    </tr>\n",
       "    <tr>\n",
       "      <th>4</th>\n",
       "      <td>1</td>\n",
       "      <td>Llega tarde y co la talla equivocada</td>\n",
       "      <td>Devuelto</td>\n",
       "      <td>False</td>\n",
       "    </tr>\n",
       "    <tr>\n",
       "      <th>...</th>\n",
       "      <td>...</td>\n",
       "      <td>...</td>\n",
       "      <td>...</td>\n",
       "      <td>...</td>\n",
       "    </tr>\n",
       "    <tr>\n",
       "      <th>199995</th>\n",
       "      <td>5</td>\n",
       "      <td>Mando funciona perfectamente y cumple con toda...</td>\n",
       "      <td>Tal y como se describe</td>\n",
       "      <td>True</td>\n",
       "    </tr>\n",
       "    <tr>\n",
       "      <th>199996</th>\n",
       "      <td>5</td>\n",
       "      <td>Compré la batería con cierta reticencia, pero ...</td>\n",
       "      <td>Funciona perfectamente</td>\n",
       "      <td>True</td>\n",
       "    </tr>\n",
       "    <tr>\n",
       "      <th>199997</th>\n",
       "      <td>5</td>\n",
       "      <td>Buena calidad. Satisfecha con la compra.</td>\n",
       "      <td>Buena calidad.</td>\n",
       "      <td>True</td>\n",
       "    </tr>\n",
       "    <tr>\n",
       "      <th>199998</th>\n",
       "      <td>5</td>\n",
       "      <td>Perfecto para el cumple de mi hijo</td>\n",
       "      <td>Recomendado</td>\n",
       "      <td>True</td>\n",
       "    </tr>\n",
       "    <tr>\n",
       "      <th>199999</th>\n",
       "      <td>5</td>\n",
       "      <td>Súper bien! Las brochas son buenas, no sé meno...</td>\n",
       "      <td>Preciosas</td>\n",
       "      <td>True</td>\n",
       "    </tr>\n",
       "  </tbody>\n",
       "</table>\n",
       "<p>200000 rows × 4 columns</p>\n",
       "</div>"
      ],
      "text/plain": [
       "        stars                                        review_body  \\\n",
       "0           1  Nada bueno se me fue ka pantalla en menos de 8...   \n",
       "1           1  Horrible, nos tuvimos que comprar otro porque ...   \n",
       "2           1  Te obligan a comprar dos unidades y te llega s...   \n",
       "3           1  No entro en descalificar al vendedor, solo pue...   \n",
       "4           1               Llega tarde y co la talla equivocada   \n",
       "...       ...                                                ...   \n",
       "199995      5  Mando funciona perfectamente y cumple con toda...   \n",
       "199996      5  Compré la batería con cierta reticencia, pero ...   \n",
       "199997      5           Buena calidad. Satisfecha con la compra.   \n",
       "199998      5                 Perfecto para el cumple de mi hijo   \n",
       "199999      5  Súper bien! Las brochas son buenas, no sé meno...   \n",
       "\n",
       "                                             review_title  recomendable  \n",
       "0                                        television Nevir         False  \n",
       "1               Dinero tirado a la basura con esta compra         False  \n",
       "2       solo llega una unidad cuando te obligan a comp...         False  \n",
       "3                                   PRODUCTO NO RECIBIDO.         False  \n",
       "4                                                Devuelto         False  \n",
       "...                                                   ...           ...  \n",
       "199995                             Tal y como se describe          True  \n",
       "199996                             Funciona perfectamente          True  \n",
       "199997                                     Buena calidad.          True  \n",
       "199998                                        Recomendado          True  \n",
       "199999                                          Preciosas          True  \n",
       "\n",
       "[200000 rows x 4 columns]"
      ]
     },
     "execution_count": 23,
     "metadata": {},
     "output_type": "execute_result"
    }
   ],
   "source": [
    "dataset"
   ]
  },
  {
   "cell_type": "markdown",
   "metadata": {},
   "source": [
    "Entrenamos el modelo con los nuevos datos"
   ]
  },
  {
   "cell_type": "code",
   "execution_count": 24,
   "metadata": {},
   "outputs": [],
   "source": [
    "X = dataset['review_title']\n",
    "y = dataset['recomendable']"
   ]
  },
  {
   "cell_type": "code",
   "execution_count": 25,
   "metadata": {},
   "outputs": [],
   "source": [
    "X_train, X_test, y_train, y_test = train_test_split(X, y, test_size = 0.2, random_state = 42)"
   ]
  },
  {
   "cell_type": "code",
   "execution_count": 26,
   "metadata": {},
   "outputs": [],
   "source": [
    "clf_bin = Pipeline([('tfidf', tfidf), ('clf', classifier)])"
   ]
  },
  {
   "cell_type": "code",
   "execution_count": 27,
   "metadata": {},
   "outputs": [
    {
     "data": {
      "text/plain": [
       "Pipeline(steps=[('tfidf',\n",
       "                 TfidfVectorizer(tokenizer=<function token_cleaner at 0x0000023EF8497B80>)),\n",
       "                ('clf', LinearSVC())])"
      ]
     },
     "execution_count": 27,
     "metadata": {},
     "output_type": "execute_result"
    }
   ],
   "source": [
    "clf_bin.fit(X_train, y_train)"
   ]
  },
  {
   "cell_type": "code",
   "execution_count": 28,
   "metadata": {},
   "outputs": [],
   "source": [
    "from sklearn.metrics import confusion_matrix\n",
    "\n",
    "y_pred = clf_bin.predict(X_test)"
   ]
  },
  {
   "cell_type": "code",
   "execution_count": 29,
   "metadata": {},
   "outputs": [
    {
     "data": {
      "image/png": "[encoded data removed]",
      "text/plain": [
       "<Figure size 360x360 with 2 Axes>"
      ]
     },
     "metadata": {
      "needs_background": "light"
     },
     "output_type": "display_data"
    }
   ],
   "source": [
    "confusion(y_test,y_pred)"
   ]
  },
  {
   "cell_type": "markdown",
   "metadata": {},
   "source": [
    "Ya viendo la matriz de confusión ya se ve una mejora pero veamos que dice el score"
   ]
  },
  {
   "cell_type": "code",
   "execution_count": 30,
   "metadata": {},
   "outputs": [
    {
     "data": {
      "text/plain": [
       "0.799425"
      ]
     },
     "execution_count": 30,
     "metadata": {},
     "output_type": "execute_result"
    }
   ],
   "source": [
    "clf_bin.score(X_test,y_test)"
   ]
  },
  {
   "cell_type": "code",
   "execution_count": 31,
   "metadata": {},
   "outputs": [],
   "source": [
    "dataset.loc[dataset[dataset['stars']< 3].index,'recomendable'] = 0"
   ]
  },
  {
   "cell_type": "code",
   "execution_count": 32,
   "metadata": {},
   "outputs": [],
   "source": [
    "dataset_bin = dataset.copy()"
   ]
  },
  {
   "cell_type": "code",
   "execution_count": 33,
   "metadata": {},
   "outputs": [],
   "source": [
    "dataset_bin['recom_pred'] = clf_bin.predict(X)"
   ]
  },
  {
   "cell_type": "code",
   "execution_count": 34,
   "metadata": {},
   "outputs": [
    {
     "data": {
      "text/html": [
       "<div>\n",
       "<style scoped>\n",
       "    .dataframe tbody tr th:only-of-type {\n",
       "        vertical-align: middle;\n",
       "    }\n",
       "\n",
       "    .dataframe tbody tr th {\n",
       "        vertical-align: top;\n",
       "    }\n",
       "\n",
       "    .dataframe thead th {\n",
       "        text-align: right;\n",
       "    }\n",
       "</style>\n",
       "<table border=\"1\" class=\"dataframe\">\n",
       "  <thead>\n",
       "    <tr style=\"text-align: right;\">\n",
       "      <th></th>\n",
       "      <th>stars</th>\n",
       "      <th>review_body</th>\n",
       "      <th>review_title</th>\n",
       "      <th>recomendable</th>\n",
       "      <th>recom_pred</th>\n",
       "    </tr>\n",
       "  </thead>\n",
       "  <tbody>\n",
       "    <tr>\n",
       "      <th>0</th>\n",
       "      <td>1</td>\n",
       "      <td>Nada bueno se me fue ka pantalla en menos de 8...</td>\n",
       "      <td>television Nevir</td>\n",
       "      <td>0</td>\n",
       "      <td>True</td>\n",
       "    </tr>\n",
       "    <tr>\n",
       "      <th>1</th>\n",
       "      <td>1</td>\n",
       "      <td>Horrible, nos tuvimos que comprar otro porque ...</td>\n",
       "      <td>Dinero tirado a la basura con esta compra</td>\n",
       "      <td>0</td>\n",
       "      <td>False</td>\n",
       "    </tr>\n",
       "    <tr>\n",
       "      <th>2</th>\n",
       "      <td>1</td>\n",
       "      <td>Te obligan a comprar dos unidades y te llega s...</td>\n",
       "      <td>solo llega una unidad cuando te obligan a comp...</td>\n",
       "      <td>0</td>\n",
       "      <td>True</td>\n",
       "    </tr>\n",
       "    <tr>\n",
       "      <th>3</th>\n",
       "      <td>1</td>\n",
       "      <td>No entro en descalificar al vendedor, solo pue...</td>\n",
       "      <td>PRODUCTO NO RECIBIDO.</td>\n",
       "      <td>0</td>\n",
       "      <td>False</td>\n",
       "    </tr>\n",
       "    <tr>\n",
       "      <th>4</th>\n",
       "      <td>1</td>\n",
       "      <td>Llega tarde y co la talla equivocada</td>\n",
       "      <td>Devuelto</td>\n",
       "      <td>0</td>\n",
       "      <td>False</td>\n",
       "    </tr>\n",
       "    <tr>\n",
       "      <th>...</th>\n",
       "      <td>...</td>\n",
       "      <td>...</td>\n",
       "      <td>...</td>\n",
       "      <td>...</td>\n",
       "      <td>...</td>\n",
       "    </tr>\n",
       "    <tr>\n",
       "      <th>199995</th>\n",
       "      <td>5</td>\n",
       "      <td>Mando funciona perfectamente y cumple con toda...</td>\n",
       "      <td>Tal y como se describe</td>\n",
       "      <td>True</td>\n",
       "      <td>True</td>\n",
       "    </tr>\n",
       "    <tr>\n",
       "      <th>199996</th>\n",
       "      <td>5</td>\n",
       "      <td>Compré la batería con cierta reticencia, pero ...</td>\n",
       "      <td>Funciona perfectamente</td>\n",
       "      <td>True</td>\n",
       "      <td>True</td>\n",
       "    </tr>\n",
       "    <tr>\n",
       "      <th>199997</th>\n",
       "      <td>5</td>\n",
       "      <td>Buena calidad. Satisfecha con la compra.</td>\n",
       "      <td>Buena calidad.</td>\n",
       "      <td>True</td>\n",
       "      <td>True</td>\n",
       "    </tr>\n",
       "    <tr>\n",
       "      <th>199998</th>\n",
       "      <td>5</td>\n",
       "      <td>Perfecto para el cumple de mi hijo</td>\n",
       "      <td>Recomendado</td>\n",
       "      <td>True</td>\n",
       "      <td>True</td>\n",
       "    </tr>\n",
       "    <tr>\n",
       "      <th>199999</th>\n",
       "      <td>5</td>\n",
       "      <td>Súper bien! Las brochas son buenas, no sé meno...</td>\n",
       "      <td>Preciosas</td>\n",
       "      <td>True</td>\n",
       "      <td>True</td>\n",
       "    </tr>\n",
       "  </tbody>\n",
       "</table>\n",
       "<p>200000 rows × 5 columns</p>\n",
       "</div>"
      ],
      "text/plain": [
       "        stars                                        review_body  \\\n",
       "0           1  Nada bueno se me fue ka pantalla en menos de 8...   \n",
       "1           1  Horrible, nos tuvimos que comprar otro porque ...   \n",
       "2           1  Te obligan a comprar dos unidades y te llega s...   \n",
       "3           1  No entro en descalificar al vendedor, solo pue...   \n",
       "4           1               Llega tarde y co la talla equivocada   \n",
       "...       ...                                                ...   \n",
       "199995      5  Mando funciona perfectamente y cumple con toda...   \n",
       "199996      5  Compré la batería con cierta reticencia, pero ...   \n",
       "199997      5           Buena calidad. Satisfecha con la compra.   \n",
       "199998      5                 Perfecto para el cumple de mi hijo   \n",
       "199999      5  Súper bien! Las brochas son buenas, no sé meno...   \n",
       "\n",
       "                                             review_title recomendable  \\\n",
       "0                                        television Nevir            0   \n",
       "1               Dinero tirado a la basura con esta compra            0   \n",
       "2       solo llega una unidad cuando te obligan a comp...            0   \n",
       "3                                   PRODUCTO NO RECIBIDO.            0   \n",
       "4                                                Devuelto            0   \n",
       "...                                                   ...          ...   \n",
       "199995                             Tal y como se describe         True   \n",
       "199996                             Funciona perfectamente         True   \n",
       "199997                                     Buena calidad.         True   \n",
       "199998                                        Recomendado         True   \n",
       "199999                                          Preciosas         True   \n",
       "\n",
       "        recom_pred  \n",
       "0             True  \n",
       "1            False  \n",
       "2             True  \n",
       "3            False  \n",
       "4            False  \n",
       "...            ...  \n",
       "199995        True  \n",
       "199996        True  \n",
       "199997        True  \n",
       "199998        True  \n",
       "199999        True  \n",
       "\n",
       "[200000 rows x 5 columns]"
      ]
     },
     "execution_count": 34,
     "metadata": {},
     "output_type": "execute_result"
    }
   ],
   "source": [
    "dataset_bin"
   ]
  },
  {
   "cell_type": "markdown",
   "metadata": {},
   "source": [
    "Graficamos como quedo la predicción de si las review recomiendan el producto o no"
   ]
  },
  {
   "cell_type": "code",
   "execution_count": 35,
   "metadata": {},
   "outputs": [
    {
     "data": {
      "image/png": "[encoded data removed]",
      "text/plain": [
       "<Figure size 432x288 with 1 Axes>"
      ]
     },
     "metadata": {
      "needs_background": "light"
     },
     "output_type": "display_data"
    }
   ],
   "source": [
    "sns.barplot(dataset_bin['recom_pred'].value_counts().index,dataset_bin['recom_pred'].value_counts().values)\n",
    "plt.show()"
   ]
  },
  {
   "cell_type": "markdown",
   "metadata": {},
   "source": [
    "# Reviews negativas relacionadas con envio\n",
    "<br>\n",
    "Tambien nos preguntamos ¿Cuantas reviews de productos tienen un puntaje negativo debido a demoras o problemas ne la entrega del producto?"
   ]
  },
  {
   "cell_type": "markdown",
   "metadata": {},
   "source": [
    "Usamos algoritmos <code>Word2Vec</code> y <code>FastText</code> para medir Word Mover’s Distance o <code>WMD</code>. Esto nos va a servir para obtener la distancia entre palabras u oraciones y distinguir cuales se refieren a entregas rapidas y lentas."
   ]
  },
  {
   "cell_type": "markdown",
   "metadata": {},
   "source": [
    "### Modelo FastText con sbwc"
   ]
  },
  {
   "cell_type": "code",
   "execution_count": 36,
   "metadata": {},
   "outputs": [],
   "source": [
    "from gensim.models.keyedvectors import KeyedVectors\n",
    "wordvectors_file_vec = 'fasttext-sbwc.3.6.e20.vec'\n",
    "cantidad = 100000\n",
    "wordvectors = KeyedVectors.load_word2vec_format(wordvectors_file_vec, limit=cantidad)"
   ]
  },
  {
   "cell_type": "code",
   "execution_count": 37,
   "metadata": {
    "scrolled": false
   },
   "outputs": [
    {
     "data": {
      "text/plain": [
       "[('dilación', 0.900303065776825),\n",
       " ('tardanza', 0.8561467528343201),\n",
       " ('demoras', 0.8312034606933594),\n",
       " ('dilaciones', 0.8129552602767944),\n",
       " ('brevedad', 0.7981038689613342),\n",
       " ('oportunamente', 0.7812494039535522),\n",
       " ('retraso', 0.7800135016441345),\n",
       " ('prontitud', 0.7787097096443176),\n",
       " ('demore', 0.7551143169403076),\n",
       " ('demorado', 0.753860592842102)]"
      ]
     },
     "execution_count": 37,
     "metadata": {},
     "output_type": "execute_result"
    }
   ],
   "source": [
    "wordvectors.most_similar_cosmul(positive=['demora'])#probamos palabras cercanas a demora"
   ]
  },
  {
   "cell_type": "markdown",
   "metadata": {},
   "source": [
    "Probamos como funciona"
   ]
  },
  {
   "cell_type": "code",
   "execution_count": 38,
   "metadata": {},
   "outputs": [
    {
     "name": "stdout",
     "output_type": "stream",
     "text": [
      "Distancia = 1.6775\n"
     ]
    }
   ],
   "source": [
    "#frases distintas\n",
    "frase1=\"el paquete llego rapido\"\n",
    "frase2=\"hubo demora en el envio\"\n",
    "\n",
    "distancia = wordvectors.wmdistance(frase1, frase2)\n",
    "print('Distancia = %.4f' % distancia)"
   ]
  },
  {
   "cell_type": "code",
   "execution_count": 39,
   "metadata": {},
   "outputs": [
    {
     "name": "stdout",
     "output_type": "stream",
     "text": [
      "Distancia = 1.3969\n"
     ]
    }
   ],
   "source": [
    "#Frases parecidas\n",
    "frase1=\"el paquete llego con demora\"\n",
    "frase2=\"hubo demora en el envio\"\n",
    "\n",
    "distancia = wordvectors.wmdistance(frase1, frase2)\n",
    "print('Distancia = %.4f' % distancia)"
   ]
  },
  {
   "cell_type": "markdown",
   "metadata": {},
   "source": [
    "A pesar de que el ultimo par de oraciones tiene una similitud el algoritmo lo marca como lejano"
   ]
  },
  {
   "cell_type": "markdown",
   "metadata": {},
   "source": [
    "### Modelo w2v con sbwc"
   ]
  },
  {
   "cell_type": "markdown",
   "metadata": {},
   "source": [
    "Probemos como se desempeña con W2V"
   ]
  },
  {
   "cell_type": "code",
   "execution_count": 40,
   "metadata": {},
   "outputs": [],
   "source": [
    "SBW_vectors_file = 'SBW-vectors-300-min5.txt'"
   ]
  },
  {
   "cell_type": "code",
   "execution_count": 41,
   "metadata": {},
   "outputs": [],
   "source": [
    "modelow2v = KeyedVectors.load_word2vec_format(SBW_vectors_file, limit=cantidad)"
   ]
  },
  {
   "cell_type": "code",
   "execution_count": 42,
   "metadata": {},
   "outputs": [
    {
     "name": "stdout",
     "output_type": "stream",
     "text": [
      "distance = 0.3834\n"
     ]
    }
   ],
   "source": [
    "#frases distintas\n",
    "frase1= \"No han entregado el producto\"\n",
    "frase2= \"el envio llego rapido\"\n",
    "\n",
    "distance = modelow2v.wmdistance(frase1, frase2)\n",
    "print('distance = %.4f' % distance)"
   ]
  },
  {
   "cell_type": "code",
   "execution_count": 43,
   "metadata": {},
   "outputs": [
    {
     "name": "stdout",
     "output_type": "stream",
     "text": [
      "distance = 0.3391\n"
     ]
    }
   ],
   "source": [
    "#frases parecidas\n",
    "frase1= \"Plazo de envio no cumplido\"\n",
    "frase2= \"hubo demora en el envio\"\n",
    "\n",
    "distance = modelow2v.wmdistance(frase1, frase2)\n",
    "print('distance = %.4f' % distance)"
   ]
  },
  {
   "cell_type": "markdown",
   "metadata": {},
   "source": [
    "Como pueden ver, a pesar de que el corpus con el que se entrenó sea en español y el modelo está pre entrenado para funcionar en español los resultados distan de ser buenos para empezar a clasificar una review está relacionada con una entrega.\n",
    "Sería interesante probar los resultados con un dataset en ingles, donde probablemente sea mejor el desempeño."
   ]
  },
  {
   "cell_type": "markdown",
   "metadata": {},
   "source": [
    "Por eso mismo probamos lemmatizando y haciendo busquedas tradicionales"
   ]
  },
  {
   "cell_type": "markdown",
   "metadata": {},
   "source": [
    "### Identificar reviews negativas relacionadas con envio usando lemmatización\n",
    "<br>\n",
    "El objetivo sigue siendo encontrar las reviews que tienen mala puntuación y esté relacionada a la entrega del producto"
   ]
  },
  {
   "cell_type": "markdown",
   "metadata": {},
   "source": [
    "Traemos las reviews que contengan la palabra <code>\"entrega\"</code> o <code>\"envio\"</code>"
   ]
  },
  {
   "cell_type": "code",
   "execution_count": 44,
   "metadata": {},
   "outputs": [
    {
     "data": {
      "text/html": [
       "<div>\n",
       "<style scoped>\n",
       "    .dataframe tbody tr th:only-of-type {\n",
       "        vertical-align: middle;\n",
       "    }\n",
       "\n",
       "    .dataframe tbody tr th {\n",
       "        vertical-align: top;\n",
       "    }\n",
       "\n",
       "    .dataframe thead th {\n",
       "        text-align: right;\n",
       "    }\n",
       "</style>\n",
       "<table border=\"1\" class=\"dataframe\">\n",
       "  <thead>\n",
       "    <tr style=\"text-align: right;\">\n",
       "      <th></th>\n",
       "      <th>stars</th>\n",
       "      <th>review_body</th>\n",
       "      <th>review_title</th>\n",
       "      <th>recomendable</th>\n",
       "      <th>recom_pred</th>\n",
       "    </tr>\n",
       "  </thead>\n",
       "  <tbody>\n",
       "    <tr>\n",
       "      <th>39</th>\n",
       "      <td>1</td>\n",
       "      <td>Una porqueria. Me lo han entregado roto. El em...</td>\n",
       "      <td>Porqueria de entrega</td>\n",
       "      <td>0</td>\n",
       "      <td>False</td>\n",
       "    </tr>\n",
       "    <tr>\n",
       "      <th>49</th>\n",
       "      <td>1</td>\n",
       "      <td>Pone que me lo han entregado hoy y o es verdad...</td>\n",
       "      <td>No entregado como pone</td>\n",
       "      <td>0</td>\n",
       "      <td>False</td>\n",
       "    </tr>\n",
       "    <tr>\n",
       "      <th>274</th>\n",
       "      <td>1</td>\n",
       "      <td>El envío se prometió para el 7 de dic y aún ho...</td>\n",
       "      <td>Plazo de envio no cumplido</td>\n",
       "      <td>0</td>\n",
       "      <td>False</td>\n",
       "    </tr>\n",
       "    <tr>\n",
       "      <th>301</th>\n",
       "      <td>1</td>\n",
       "      <td>No me llego este producto.</td>\n",
       "      <td>Sale entregado y no lo he recibido</td>\n",
       "      <td>0</td>\n",
       "      <td>False</td>\n",
       "    </tr>\n",
       "    <tr>\n",
       "      <th>324</th>\n",
       "      <td>1</td>\n",
       "      <td>Otra vez más la empresa Tourline Express se cu...</td>\n",
       "      <td>No han entregado el producto</td>\n",
       "      <td>0</td>\n",
       "      <td>False</td>\n",
       "    </tr>\n",
       "    <tr>\n",
       "      <th>...</th>\n",
       "      <td>...</td>\n",
       "      <td>...</td>\n",
       "      <td>...</td>\n",
       "      <td>...</td>\n",
       "      <td>...</td>\n",
       "    </tr>\n",
       "    <tr>\n",
       "      <th>198753</th>\n",
       "      <td>5</td>\n",
       "      <td>Muy buen producto todo muy bien envió rápido y...</td>\n",
       "      <td>Buen producto y envio rapido</td>\n",
       "      <td>True</td>\n",
       "      <td>True</td>\n",
       "    </tr>\n",
       "    <tr>\n",
       "      <th>198827</th>\n",
       "      <td>5</td>\n",
       "      <td>Producto de alta calidad con entrega lenta y m...</td>\n",
       "      <td>Buen precio, entrega lenta</td>\n",
       "      <td>True</td>\n",
       "      <td>True</td>\n",
       "    </tr>\n",
       "    <tr>\n",
       "      <th>198876</th>\n",
       "      <td>5</td>\n",
       "      <td>producto de calidad y lo esperado</td>\n",
       "      <td>La entrega rapidisima</td>\n",
       "      <td>True</td>\n",
       "      <td>True</td>\n",
       "    </tr>\n",
       "    <tr>\n",
       "      <th>198910</th>\n",
       "      <td>5</td>\n",
       "      <td>Me ha llegado un poco tarde, pero llegó un día...</td>\n",
       "      <td>Lentitud en envio</td>\n",
       "      <td>True</td>\n",
       "      <td>False</td>\n",
       "    </tr>\n",
       "    <tr>\n",
       "      <th>199917</th>\n",
       "      <td>5</td>\n",
       "      <td>La bateria es muy potente y funciona correctam...</td>\n",
       "      <td>La rapidez en el envio</td>\n",
       "      <td>True</td>\n",
       "      <td>True</td>\n",
       "    </tr>\n",
       "  </tbody>\n",
       "</table>\n",
       "<p>1305 rows × 5 columns</p>\n",
       "</div>"
      ],
      "text/plain": [
       "        stars                                        review_body  \\\n",
       "39          1  Una porqueria. Me lo han entregado roto. El em...   \n",
       "49          1  Pone que me lo han entregado hoy y o es verdad...   \n",
       "274         1  El envío se prometió para el 7 de dic y aún ho...   \n",
       "301         1                         No me llego este producto.   \n",
       "324         1  Otra vez más la empresa Tourline Express se cu...   \n",
       "...       ...                                                ...   \n",
       "198753      5  Muy buen producto todo muy bien envió rápido y...   \n",
       "198827      5  Producto de alta calidad con entrega lenta y m...   \n",
       "198876      5                  producto de calidad y lo esperado   \n",
       "198910      5  Me ha llegado un poco tarde, pero llegó un día...   \n",
       "199917      5  La bateria es muy potente y funciona correctam...   \n",
       "\n",
       "                              review_title recomendable  recom_pred  \n",
       "39                    Porqueria de entrega            0       False  \n",
       "49                  No entregado como pone            0       False  \n",
       "274             Plazo de envio no cumplido            0       False  \n",
       "301     Sale entregado y no lo he recibido            0       False  \n",
       "324           No han entregado el producto            0       False  \n",
       "...                                    ...          ...         ...  \n",
       "198753        Buen producto y envio rapido         True        True  \n",
       "198827          Buen precio, entrega lenta         True        True  \n",
       "198876               La entrega rapidisima         True        True  \n",
       "198910                   Lentitud en envio         True       False  \n",
       "199917              La rapidez en el envio         True        True  \n",
       "\n",
       "[1305 rows x 5 columns]"
      ]
     },
     "execution_count": 44,
     "metadata": {},
     "output_type": "execute_result"
    }
   ],
   "source": [
    "datasetprueba = dataset_bin[dataset_bin['review_title'].str.contains(\"entrega\") | dataset_bin['review_title'].str.contains(\"envio\")]\n",
    "datasetprueba"
   ]
  },
  {
   "cell_type": "markdown",
   "metadata": {},
   "source": [
    "Podemos ver que el resultado es bastante bajo. ¿Que sucede si normalizamos y lemmatizamos?"
   ]
  },
  {
   "cell_type": "code",
   "execution_count": 45,
   "metadata": {},
   "outputs": [],
   "source": [
    "dataset_review_lemma = [] #lista donde se van a guardar las reviews lemmatizadas\n",
    "for titulo in dataset_bin.review_body:\n",
    "    dataset_review_lemma.append(\" \".join(token_cleaner(titulo)))"
   ]
  },
  {
   "cell_type": "code",
   "execution_count": 46,
   "metadata": {},
   "outputs": [
    {
     "data": {
      "text/html": [
       "<div>\n",
       "<style scoped>\n",
       "    .dataframe tbody tr th:only-of-type {\n",
       "        vertical-align: middle;\n",
       "    }\n",
       "\n",
       "    .dataframe tbody tr th {\n",
       "        vertical-align: top;\n",
       "    }\n",
       "\n",
       "    .dataframe thead th {\n",
       "        text-align: right;\n",
       "    }\n",
       "</style>\n",
       "<table border=\"1\" class=\"dataframe\">\n",
       "  <thead>\n",
       "    <tr style=\"text-align: right;\">\n",
       "      <th></th>\n",
       "      <th>stars</th>\n",
       "      <th>review_body</th>\n",
       "      <th>review_title</th>\n",
       "      <th>recomendable</th>\n",
       "      <th>review_title_lemma</th>\n",
       "      <th>recom_pred</th>\n",
       "    </tr>\n",
       "  </thead>\n",
       "  <tbody>\n",
       "    <tr>\n",
       "      <th>0</th>\n",
       "      <td>1</td>\n",
       "      <td>Nada bueno se me fue ka pantalla en menos de 8...</td>\n",
       "      <td>television Nevir</td>\n",
       "      <td>0</td>\n",
       "      <td>nada bueno ser ka pantalla menos mesar no habe...</td>\n",
       "      <td>True</td>\n",
       "    </tr>\n",
       "    <tr>\n",
       "      <th>1</th>\n",
       "      <td>1</td>\n",
       "      <td>Horrible, nos tuvimos que comprar otro porque ...</td>\n",
       "      <td>Dinero tirado a la basura con esta compra</td>\n",
       "      <td>0</td>\n",
       "      <td>horrible no tener comprar saber ingles informa...</td>\n",
       "      <td>False</td>\n",
       "    </tr>\n",
       "    <tr>\n",
       "      <th>2</th>\n",
       "      <td>1</td>\n",
       "      <td>Te obligan a comprar dos unidades y te llega s...</td>\n",
       "      <td>solo llega una unidad cuando te obligan a comp...</td>\n",
       "      <td>0</td>\n",
       "      <td>obligar comprar do unidad llegar solo no haber...</td>\n",
       "      <td>True</td>\n",
       "    </tr>\n",
       "    <tr>\n",
       "      <th>3</th>\n",
       "      <td>1</td>\n",
       "      <td>No entro en descalificar al vendedor, solo pue...</td>\n",
       "      <td>PRODUCTO NO RECIBIDO.</td>\n",
       "      <td>0</td>\n",
       "      <td>no entrar descalificar vendedor solo poder dec...</td>\n",
       "      <td>False</td>\n",
       "    </tr>\n",
       "    <tr>\n",
       "      <th>4</th>\n",
       "      <td>1</td>\n",
       "      <td>Llega tarde y co la talla equivocada</td>\n",
       "      <td>Devuelto</td>\n",
       "      <td>0</td>\n",
       "      <td>llega tardar co tallar equivocar</td>\n",
       "      <td>False</td>\n",
       "    </tr>\n",
       "    <tr>\n",
       "      <th>...</th>\n",
       "      <td>...</td>\n",
       "      <td>...</td>\n",
       "      <td>...</td>\n",
       "      <td>...</td>\n",
       "      <td>...</td>\n",
       "      <td>...</td>\n",
       "    </tr>\n",
       "    <tr>\n",
       "      <th>199995</th>\n",
       "      <td>5</td>\n",
       "      <td>Mando funciona perfectamente y cumple con toda...</td>\n",
       "      <td>Tal y como se describe</td>\n",
       "      <td>True</td>\n",
       "      <td>mando funcionar perfectamente cumplir funciona...</td>\n",
       "      <td>True</td>\n",
       "    </tr>\n",
       "    <tr>\n",
       "      <th>199996</th>\n",
       "      <td>5</td>\n",
       "      <td>Compré la batería con cierta reticencia, pero ...</td>\n",
       "      <td>Funciona perfectamente</td>\n",
       "      <td>True</td>\n",
       "      <td>compre bateria cierto reticencia resultar muy ...</td>\n",
       "      <td>True</td>\n",
       "    </tr>\n",
       "    <tr>\n",
       "      <th>199997</th>\n",
       "      <td>5</td>\n",
       "      <td>Buena calidad. Satisfecha con la compra.</td>\n",
       "      <td>Buena calidad.</td>\n",
       "      <td>True</td>\n",
       "      <td>buena calidad satisfecha comprar</td>\n",
       "      <td>True</td>\n",
       "    </tr>\n",
       "    <tr>\n",
       "      <th>199998</th>\n",
       "      <td>5</td>\n",
       "      <td>Perfecto para el cumple de mi hijo</td>\n",
       "      <td>Recomendado</td>\n",
       "      <td>True</td>\n",
       "      <td>perfecto parir cumplir hijo</td>\n",
       "      <td>True</td>\n",
       "    </tr>\n",
       "    <tr>\n",
       "      <th>199999</th>\n",
       "      <td>5</td>\n",
       "      <td>Súper bien! Las brochas son buenas, no sé meno...</td>\n",
       "      <td>Preciosas</td>\n",
       "      <td>True</td>\n",
       "      <td>super bien brocha ser bueno no ser menos haber...</td>\n",
       "      <td>True</td>\n",
       "    </tr>\n",
       "  </tbody>\n",
       "</table>\n",
       "<p>200000 rows × 6 columns</p>\n",
       "</div>"
      ],
      "text/plain": [
       "        stars                                        review_body  \\\n",
       "0           1  Nada bueno se me fue ka pantalla en menos de 8...   \n",
       "1           1  Horrible, nos tuvimos que comprar otro porque ...   \n",
       "2           1  Te obligan a comprar dos unidades y te llega s...   \n",
       "3           1  No entro en descalificar al vendedor, solo pue...   \n",
       "4           1               Llega tarde y co la talla equivocada   \n",
       "...       ...                                                ...   \n",
       "199995      5  Mando funciona perfectamente y cumple con toda...   \n",
       "199996      5  Compré la batería con cierta reticencia, pero ...   \n",
       "199997      5           Buena calidad. Satisfecha con la compra.   \n",
       "199998      5                 Perfecto para el cumple de mi hijo   \n",
       "199999      5  Súper bien! Las brochas son buenas, no sé meno...   \n",
       "\n",
       "                                             review_title recomendable  \\\n",
       "0                                        television Nevir            0   \n",
       "1               Dinero tirado a la basura con esta compra            0   \n",
       "2       solo llega una unidad cuando te obligan a comp...            0   \n",
       "3                                   PRODUCTO NO RECIBIDO.            0   \n",
       "4                                                Devuelto            0   \n",
       "...                                                   ...          ...   \n",
       "199995                             Tal y como se describe         True   \n",
       "199996                             Funciona perfectamente         True   \n",
       "199997                                     Buena calidad.         True   \n",
       "199998                                        Recomendado         True   \n",
       "199999                                          Preciosas         True   \n",
       "\n",
       "                                       review_title_lemma  recom_pred  \n",
       "0       nada bueno ser ka pantalla menos mesar no habe...        True  \n",
       "1       horrible no tener comprar saber ingles informa...       False  \n",
       "2       obligar comprar do unidad llegar solo no haber...        True  \n",
       "3       no entrar descalificar vendedor solo poder dec...       False  \n",
       "4                        llega tardar co tallar equivocar       False  \n",
       "...                                                   ...         ...  \n",
       "199995  mando funcionar perfectamente cumplir funciona...        True  \n",
       "199996  compre bateria cierto reticencia resultar muy ...        True  \n",
       "199997                   buena calidad satisfecha comprar        True  \n",
       "199998                        perfecto parir cumplir hijo        True  \n",
       "199999  super bien brocha ser bueno no ser menos haber...        True  \n",
       "\n",
       "[200000 rows x 6 columns]"
      ]
     },
     "execution_count": 46,
     "metadata": {},
     "output_type": "execute_result"
    }
   ],
   "source": [
    "dataset_bin.insert(4,\"review_title_lemma\", dataset_review_lemma) #agregamos las reviews lemmatizadas al dataframe\n",
    "dataset_bin"
   ]
  },
  {
   "cell_type": "markdown",
   "metadata": {},
   "source": [
    "Hacemos las busqueda en base a palabras que estén relacionadas con la entrega y la demor del producto luego de lematizar.\n",
    "<br>\n",
    "Hay palabras que están incompletas para tambien se cuenten las conjugación de estas mismas que la lemmatización no pudo reducir."
   ]
  },
  {
   "cell_type": "code",
   "execution_count": 47,
   "metadata": {
    "scrolled": false
   },
   "outputs": [
    {
     "data": {
      "text/html": [
       "<div>\n",
       "<style scoped>\n",
       "    .dataframe tbody tr th:only-of-type {\n",
       "        vertical-align: middle;\n",
       "    }\n",
       "\n",
       "    .dataframe tbody tr th {\n",
       "        vertical-align: top;\n",
       "    }\n",
       "\n",
       "    .dataframe thead th {\n",
       "        text-align: right;\n",
       "    }\n",
       "</style>\n",
       "<table border=\"1\" class=\"dataframe\">\n",
       "  <thead>\n",
       "    <tr style=\"text-align: right;\">\n",
       "      <th></th>\n",
       "      <th>stars</th>\n",
       "      <th>review_body</th>\n",
       "      <th>review_title</th>\n",
       "      <th>recomendable</th>\n",
       "      <th>review_title_lemma</th>\n",
       "      <th>recom_pred</th>\n",
       "    </tr>\n",
       "  </thead>\n",
       "  <tbody>\n",
       "    <tr>\n",
       "      <th>4</th>\n",
       "      <td>1</td>\n",
       "      <td>Llega tarde y co la talla equivocada</td>\n",
       "      <td>Devuelto</td>\n",
       "      <td>0</td>\n",
       "      <td>llega tardar co tallar equivocar</td>\n",
       "      <td>False</td>\n",
       "    </tr>\n",
       "    <tr>\n",
       "      <th>16</th>\n",
       "      <td>1</td>\n",
       "      <td>El producto tenía que llegar el 21 de septiemb...</td>\n",
       "      <td>Ojalá se acuerden</td>\n",
       "      <td>0</td>\n",
       "      <td>producto tener llegar septiembre aproximar no ...</td>\n",
       "      <td>True</td>\n",
       "    </tr>\n",
       "    <tr>\n",
       "      <th>26</th>\n",
       "      <td>1</td>\n",
       "      <td>Lo siento, no puedo valorarlo, puesto que la a...</td>\n",
       "      <td>Pilar</td>\n",
       "      <td>0</td>\n",
       "      <td>sentir no poder valorarlo poner agenciar trans...</td>\n",
       "      <td>True</td>\n",
       "    </tr>\n",
       "    <tr>\n",
       "      <th>30</th>\n",
       "      <td>1</td>\n",
       "      <td>Ha tardado en llegar mucho más de lo esperado....</td>\n",
       "      <td>Se suponía que era un producto Prime....</td>\n",
       "      <td>0</td>\n",
       "      <td>tardar llegar mas esperar comprar pensar llega...</td>\n",
       "      <td>False</td>\n",
       "    </tr>\n",
       "    <tr>\n",
       "      <th>32</th>\n",
       "      <td>1</td>\n",
       "      <td>Me llego un correo diciendo que había llegado ...</td>\n",
       "      <td>No me ha llegado</td>\n",
       "      <td>0</td>\n",
       "      <td>llegar correar decir haber llegar paquete hace...</td>\n",
       "      <td>False</td>\n",
       "    </tr>\n",
       "    <tr>\n",
       "      <th>...</th>\n",
       "      <td>...</td>\n",
       "      <td>...</td>\n",
       "      <td>...</td>\n",
       "      <td>...</td>\n",
       "      <td>...</td>\n",
       "      <td>...</td>\n",
       "    </tr>\n",
       "    <tr>\n",
       "      <th>79975</th>\n",
       "      <td>2</td>\n",
       "      <td>muy rápido el envío y la instalación es muy fá...</td>\n",
       "      <td>no funciona la huella y uno de los cristales v...</td>\n",
       "      <td>0</td>\n",
       "      <td>muy rapido enviar instalacion ser muy facil ve...</td>\n",
       "      <td>False</td>\n",
       "    </tr>\n",
       "    <tr>\n",
       "      <th>79976</th>\n",
       "      <td>2</td>\n",
       "      <td>El producto excelente y el pedido en su fecha ...</td>\n",
       "      <td>Caja sin embalar</td>\n",
       "      <td>0</td>\n",
       "      <td>producto excelente pedir fecho entregar pegar ...</td>\n",
       "      <td>False</td>\n",
       "    </tr>\n",
       "    <tr>\n",
       "      <th>79985</th>\n",
       "      <td>2</td>\n",
       "      <td>Envían pilas de otra marca que no tiene que ve...</td>\n",
       "      <td>no son la marca anunciada</td>\n",
       "      <td>0</td>\n",
       "      <td>envian pilar marcar no tener ver foto publicar...</td>\n",
       "      <td>False</td>\n",
       "    </tr>\n",
       "    <tr>\n",
       "      <th>79988</th>\n",
       "      <td>2</td>\n",
       "      <td>Me tardo en llegar y encima estaba algo roto. ...</td>\n",
       "      <td>Me llego algo roto</td>\n",
       "      <td>0</td>\n",
       "      <td>tardar llegar encimar rotar puede ser puntual ...</td>\n",
       "      <td>False</td>\n",
       "    </tr>\n",
       "    <tr>\n",
       "      <th>79993</th>\n",
       "      <td>2</td>\n",
       "      <td>La entrega fue muy rápida, antes de lo indicad...</td>\n",
       "      <td>LLEGÓ SIN FUNCIONAR</td>\n",
       "      <td>0</td>\n",
       "      <td>entregar ser muy rapido indicar llegar funcion...</td>\n",
       "      <td>True</td>\n",
       "    </tr>\n",
       "  </tbody>\n",
       "</table>\n",
       "<p>7119 rows × 6 columns</p>\n",
       "</div>"
      ],
      "text/plain": [
       "       stars                                        review_body  \\\n",
       "4          1               Llega tarde y co la talla equivocada   \n",
       "16         1  El producto tenía que llegar el 21 de septiemb...   \n",
       "26         1  Lo siento, no puedo valorarlo, puesto que la a...   \n",
       "30         1  Ha tardado en llegar mucho más de lo esperado....   \n",
       "32         1  Me llego un correo diciendo que había llegado ...   \n",
       "...      ...                                                ...   \n",
       "79975      2  muy rápido el envío y la instalación es muy fá...   \n",
       "79976      2  El producto excelente y el pedido en su fecha ...   \n",
       "79985      2  Envían pilas de otra marca que no tiene que ve...   \n",
       "79988      2  Me tardo en llegar y encima estaba algo roto. ...   \n",
       "79993      2  La entrega fue muy rápida, antes de lo indicad...   \n",
       "\n",
       "                                            review_title recomendable  \\\n",
       "4                                               Devuelto            0   \n",
       "16                                     Ojalá se acuerden            0   \n",
       "26                                                 Pilar            0   \n",
       "30              Se suponía que era un producto Prime....            0   \n",
       "32                                      No me ha llegado            0   \n",
       "...                                                  ...          ...   \n",
       "79975  no funciona la huella y uno de los cristales v...            0   \n",
       "79976                                   Caja sin embalar            0   \n",
       "79985                          no son la marca anunciada            0   \n",
       "79988                                 Me llego algo roto            0   \n",
       "79993                                LLEGÓ SIN FUNCIONAR            0   \n",
       "\n",
       "                                      review_title_lemma  recom_pred  \n",
       "4                       llega tardar co tallar equivocar       False  \n",
       "16     producto tener llegar septiembre aproximar no ...        True  \n",
       "26     sentir no poder valorarlo poner agenciar trans...        True  \n",
       "30     tardar llegar mas esperar comprar pensar llega...       False  \n",
       "32     llegar correar decir haber llegar paquete hace...       False  \n",
       "...                                                  ...         ...  \n",
       "79975  muy rapido enviar instalacion ser muy facil ve...       False  \n",
       "79976  producto excelente pedir fecho entregar pegar ...       False  \n",
       "79985  envian pilar marcar no tener ver foto publicar...       False  \n",
       "79988  tardar llegar encimar rotar puede ser puntual ...       False  \n",
       "79993  entregar ser muy rapido indicar llegar funcion...        True  \n",
       "\n",
       "[7119 rows x 6 columns]"
      ]
     },
     "execution_count": 47,
     "metadata": {},
     "output_type": "execute_result"
    }
   ],
   "source": [
    "palabras_clave = [\"entreg\",\"envi\",\"lento\",\"demora\",\"tardar\"]#lista de palabras \n",
    "dataset_envios_tarde = dataset_bin[(dataset_bin['review_title_lemma'].str.contains('|'.join(palabras_clave))) & (dataset_bin.recomendable==False)]\n",
    "dataset_envios_tarde"
   ]
  },
  {
   "cell_type": "markdown",
   "metadata": {},
   "source": [
    "El resultado encontrado fue casi 7 mayor una vez lematizados los <code>review_body</code> de cada review.\n",
    "<br>\n",
    "Lematizamos <code>review_body</code> ya que luego de pruebas daba mejores resultados que <code>review_titley</code>"
   ]
  },
  {
   "cell_type": "markdown",
   "metadata": {},
   "source": [
    "Para poder visualizar un poco mejor vamos a graficar"
   ]
  },
  {
   "cell_type": "code",
   "execution_count": 48,
   "metadata": {},
   "outputs": [
    {
     "data": {
      "image/png": "[encoded data removed]",
      "text/plain": [
       "<Figure size 720x432 with 1 Axes>"
      ]
     },
     "metadata": {},
     "output_type": "display_data"
    }
   ],
   "source": [
    "valores=[dataset_envios_tarde.shape[0],dataset_bin[dataset_bin[\"recomendable\"]==0].shape[0]-dataset_envios_tarde.shape[0]\n",
    "-dataset_envios_tarde.shape[0]]\n",
    "\n",
    "colores = ['#DD7596', '#8EB897']# Colores para el grafico\n",
    "\n",
    "ax = plt.subplots(figsize=[10,6])\n",
    "plt.pie(valores,labels=[\"Reviews negativas relacionadas con envio\",\"Resto de reviews negativas\"],\n",
    "        labeldistance=1.15, wedgeprops = { 'linewidth' : 1, 'edgecolor' : 'black' }, colors=colores,\n",
    "        explode=(0.2, 0),autopct=\"%.1f%%\");"
   ]
  },
  {
   "cell_type": "markdown",
   "metadata": {},
   "source": [
    "Encontramos aproximadamente 7119 (9% de las 200.000 reviews) reviews negativas que se relacionan con la entrega del producto.\n",
    "<br>\n",
    "Este dato puede servir para analizar y mejorar la distribución de los productos, reduciendo la cantidad de clientes insatisfechos."
   ]
  },
  {
   "cell_type": "code",
   "execution_count": null,
   "metadata": {},
   "outputs": [],
   "source": []
  }
 ],
 "metadata": {
  "kernelspec": {
   "display_name": "Python 3",
   "language": "python",
   "name": "python3"
  },
  "language_info": {
   "codemirror_mode": {
    "name": "ipython",
    "version": 3
   },
   "file_extension": ".py",
   "mimetype": "text/x-python",
   "name": "python",
   "nbconvert_exporter": "python",
   "pygments_lexer": "ipython3",
   "version": "3.8.5"
  }
 },
 "nbformat": 4,
 "nbformat_minor": 4
}
